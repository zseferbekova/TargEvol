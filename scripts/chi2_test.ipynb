{
 "cells": [
  {
   "cell_type": "markdown",
   "metadata": {},
   "source": [
    "# Chi-square association test"
   ]
  },
  {
   "cell_type": "markdown",
   "metadata": {},
   "source": [
    "*Pearson's chi-squared test* is used as a test of independence. It assesses whether observations consisting of measures on two variables, expressed in a contingency table, are independent of each other (e.g. polling responses from people of different nationalities to see if one's nationality is related to the response). A p-value of less than or equal to a critical point is interpreted as justification for rejecting the null hypothesis that the row variable is independent of the column variable. The alternative hypothesis corresponds to the variables having an association or relationship where the structure of this relationship is not specified.\n",
    "\n",
    "More info: https://en.wikipedia.org/wiki/Pearson%27s_chi-squared_test#Testing_for_statistical_independence"
   ]
  },
  {
   "cell_type": "markdown",
   "metadata": {},
   "source": [
    "Import dependencies and data:"
   ]
  },
  {
   "cell_type": "code",
   "execution_count": 2,
   "metadata": {},
   "outputs": [],
   "source": [
    "import numpy as np\n",
    "import pandas as pd\n",
    "import matplotlib.pyplot as plt\n",
    "from scipy.stats import chi2_contingency\n",
    "%matplotlib inline"
   ]
  },
  {
   "cell_type": "code",
   "execution_count": 3,
   "metadata": {},
   "outputs": [
    {
     "name": "stdout",
     "output_type": "stream",
     "text": [
      "(14907, 9)\n"
     ]
    },
    {
     "data": {
      "text/html": [
       "<div>\n",
       "<style scoped>\n",
       "    .dataframe tbody tr th:only-of-type {\n",
       "        vertical-align: middle;\n",
       "    }\n",
       "\n",
       "    .dataframe tbody tr th {\n",
       "        vertical-align: top;\n",
       "    }\n",
       "\n",
       "    .dataframe thead th {\n",
       "        text-align: right;\n",
       "    }\n",
       "</style>\n",
       "<table border=\"1\" class=\"dataframe\">\n",
       "  <thead>\n",
       "    <tr style=\"text-align: right;\">\n",
       "      <th></th>\n",
       "      <th>Gene name</th>\n",
       "      <th>Gene description</th>\n",
       "      <th>dN with Chimpanzee</th>\n",
       "      <th>dS with Chimpanzee</th>\n",
       "      <th>dN/dS with Chimpanzee</th>\n",
       "      <th>dN with Mouse</th>\n",
       "      <th>dS with Mouse</th>\n",
       "      <th>dN/dS with Mouse</th>\n",
       "      <th>present in DrugBank</th>\n",
       "    </tr>\n",
       "  </thead>\n",
       "  <tbody>\n",
       "    <tr>\n",
       "      <th>0</th>\n",
       "      <td>MT-ATP8</td>\n",
       "      <td>mitochondrially encoded ATP synthase membrane ...</td>\n",
       "      <td>0.0325</td>\n",
       "      <td>0.3331</td>\n",
       "      <td>0.0976</td>\n",
       "      <td>0.4871</td>\n",
       "      <td>0.8480</td>\n",
       "      <td>0.5744</td>\n",
       "      <td>False</td>\n",
       "    </tr>\n",
       "    <tr>\n",
       "      <th>1</th>\n",
       "      <td>MT-ND6</td>\n",
       "      <td>mitochondrially encoded NADH:ubiquinone oxidor...</td>\n",
       "      <td>0.0204</td>\n",
       "      <td>0.6559</td>\n",
       "      <td>0.0311</td>\n",
       "      <td>0.3455</td>\n",
       "      <td>13.3498</td>\n",
       "      <td>0.0259</td>\n",
       "      <td>True</td>\n",
       "    </tr>\n",
       "    <tr>\n",
       "      <th>2</th>\n",
       "      <td>KLF13</td>\n",
       "      <td>Kruppel like factor 13 [Source:HGNC Symbol;Acc...</td>\n",
       "      <td>0.0026</td>\n",
       "      <td>0.0771</td>\n",
       "      <td>0.0337</td>\n",
       "      <td>0.0219</td>\n",
       "      <td>0.6810</td>\n",
       "      <td>0.0322</td>\n",
       "      <td>False</td>\n",
       "    </tr>\n",
       "    <tr>\n",
       "      <th>3</th>\n",
       "      <td>KCNE1B</td>\n",
       "      <td>potassium voltage-gated channel subfamily E re...</td>\n",
       "      <td>0.0165</td>\n",
       "      <td>0.0649</td>\n",
       "      <td>0.2542</td>\n",
       "      <td>0.1382</td>\n",
       "      <td>0.8135</td>\n",
       "      <td>0.1699</td>\n",
       "      <td>False</td>\n",
       "    </tr>\n",
       "    <tr>\n",
       "      <th>4</th>\n",
       "      <td>PDK3</td>\n",
       "      <td>pyruvate dehydrogenase kinase 3 [Source:HGNC S...</td>\n",
       "      <td>0.0152</td>\n",
       "      <td>0.0300</td>\n",
       "      <td>0.5067</td>\n",
       "      <td>0.0151</td>\n",
       "      <td>0.5213</td>\n",
       "      <td>0.0290</td>\n",
       "      <td>True</td>\n",
       "    </tr>\n",
       "  </tbody>\n",
       "</table>\n",
       "</div>"
      ],
      "text/plain": [
       "  Gene name                                   Gene description  \\\n",
       "0   MT-ATP8  mitochondrially encoded ATP synthase membrane ...   \n",
       "1    MT-ND6  mitochondrially encoded NADH:ubiquinone oxidor...   \n",
       "2     KLF13  Kruppel like factor 13 [Source:HGNC Symbol;Acc...   \n",
       "3    KCNE1B  potassium voltage-gated channel subfamily E re...   \n",
       "4      PDK3  pyruvate dehydrogenase kinase 3 [Source:HGNC S...   \n",
       "\n",
       "   dN with Chimpanzee  dS with Chimpanzee  dN/dS with Chimpanzee  \\\n",
       "0              0.0325              0.3331                 0.0976   \n",
       "1              0.0204              0.6559                 0.0311   \n",
       "2              0.0026              0.0771                 0.0337   \n",
       "3              0.0165              0.0649                 0.2542   \n",
       "4              0.0152              0.0300                 0.5067   \n",
       "\n",
       "   dN with Mouse  dS with Mouse  dN/dS with Mouse  present in DrugBank  \n",
       "0         0.4871         0.8480            0.5744                False  \n",
       "1         0.3455        13.3498            0.0259                 True  \n",
       "2         0.0219         0.6810            0.0322                False  \n",
       "3         0.1382         0.8135            0.1699                False  \n",
       "4         0.0151         0.5213            0.0290                 True  "
      ]
     },
     "execution_count": 3,
     "metadata": {},
     "output_type": "execute_result"
    }
   ],
   "source": [
    "data = pd.read_csv(\"../results/dnds_for_targets.csv\", index_col=0)\n",
    "print(data.shape)\n",
    "data.head()"
   ]
  },
  {
   "cell_type": "markdown",
   "metadata": {},
   "source": [
    "Filter out inf values:"
   ]
  },
  {
   "cell_type": "code",
   "execution_count": 4,
   "metadata": {},
   "outputs": [
    {
     "name": "stdout",
     "output_type": "stream",
     "text": [
      "(11882, 9)\n",
      "(11480, 9)\n"
     ]
    },
    {
     "data": {
      "text/html": [
       "<div>\n",
       "<style scoped>\n",
       "    .dataframe tbody tr th:only-of-type {\n",
       "        vertical-align: middle;\n",
       "    }\n",
       "\n",
       "    .dataframe tbody tr th {\n",
       "        vertical-align: top;\n",
       "    }\n",
       "\n",
       "    .dataframe thead th {\n",
       "        text-align: right;\n",
       "    }\n",
       "</style>\n",
       "<table border=\"1\" class=\"dataframe\">\n",
       "  <thead>\n",
       "    <tr style=\"text-align: right;\">\n",
       "      <th></th>\n",
       "      <th>Gene name</th>\n",
       "      <th>Gene description</th>\n",
       "      <th>dN with Chimpanzee</th>\n",
       "      <th>dS with Chimpanzee</th>\n",
       "      <th>dN/dS with Chimpanzee</th>\n",
       "      <th>dN with Mouse</th>\n",
       "      <th>dS with Mouse</th>\n",
       "      <th>dN/dS with Mouse</th>\n",
       "      <th>present in DrugBank</th>\n",
       "    </tr>\n",
       "  </thead>\n",
       "  <tbody>\n",
       "    <tr>\n",
       "      <th>0</th>\n",
       "      <td>MT-ATP8</td>\n",
       "      <td>mitochondrially encoded ATP synthase membrane ...</td>\n",
       "      <td>0.0325</td>\n",
       "      <td>0.3331</td>\n",
       "      <td>0.0976</td>\n",
       "      <td>0.4871</td>\n",
       "      <td>0.8480</td>\n",
       "      <td>0.5744</td>\n",
       "      <td>False</td>\n",
       "    </tr>\n",
       "    <tr>\n",
       "      <th>1</th>\n",
       "      <td>MT-ND6</td>\n",
       "      <td>mitochondrially encoded NADH:ubiquinone oxidor...</td>\n",
       "      <td>0.0204</td>\n",
       "      <td>0.6559</td>\n",
       "      <td>0.0311</td>\n",
       "      <td>0.3455</td>\n",
       "      <td>13.3498</td>\n",
       "      <td>0.0259</td>\n",
       "      <td>True</td>\n",
       "    </tr>\n",
       "    <tr>\n",
       "      <th>2</th>\n",
       "      <td>KLF13</td>\n",
       "      <td>Kruppel like factor 13 [Source:HGNC Symbol;Acc...</td>\n",
       "      <td>0.0026</td>\n",
       "      <td>0.0771</td>\n",
       "      <td>0.0337</td>\n",
       "      <td>0.0219</td>\n",
       "      <td>0.6810</td>\n",
       "      <td>0.0322</td>\n",
       "      <td>False</td>\n",
       "    </tr>\n",
       "    <tr>\n",
       "      <th>3</th>\n",
       "      <td>KCNE1B</td>\n",
       "      <td>potassium voltage-gated channel subfamily E re...</td>\n",
       "      <td>0.0165</td>\n",
       "      <td>0.0649</td>\n",
       "      <td>0.2542</td>\n",
       "      <td>0.1382</td>\n",
       "      <td>0.8135</td>\n",
       "      <td>0.1699</td>\n",
       "      <td>False</td>\n",
       "    </tr>\n",
       "    <tr>\n",
       "      <th>4</th>\n",
       "      <td>PDK3</td>\n",
       "      <td>pyruvate dehydrogenase kinase 3 [Source:HGNC S...</td>\n",
       "      <td>0.0152</td>\n",
       "      <td>0.0300</td>\n",
       "      <td>0.5067</td>\n",
       "      <td>0.0151</td>\n",
       "      <td>0.5213</td>\n",
       "      <td>0.0290</td>\n",
       "      <td>True</td>\n",
       "    </tr>\n",
       "  </tbody>\n",
       "</table>\n",
       "</div>"
      ],
      "text/plain": [
       "  Gene name                                   Gene description  \\\n",
       "0   MT-ATP8  mitochondrially encoded ATP synthase membrane ...   \n",
       "1    MT-ND6  mitochondrially encoded NADH:ubiquinone oxidor...   \n",
       "2     KLF13  Kruppel like factor 13 [Source:HGNC Symbol;Acc...   \n",
       "3    KCNE1B  potassium voltage-gated channel subfamily E re...   \n",
       "4      PDK3  pyruvate dehydrogenase kinase 3 [Source:HGNC S...   \n",
       "\n",
       "   dN with Chimpanzee  dS with Chimpanzee  dN/dS with Chimpanzee  \\\n",
       "0              0.0325              0.3331                 0.0976   \n",
       "1              0.0204              0.6559                 0.0311   \n",
       "2              0.0026              0.0771                 0.0337   \n",
       "3              0.0165              0.0649                 0.2542   \n",
       "4              0.0152              0.0300                 0.5067   \n",
       "\n",
       "   dN with Mouse  dS with Mouse  dN/dS with Mouse  present in DrugBank  \n",
       "0         0.4871         0.8480            0.5744                False  \n",
       "1         0.3455        13.3498            0.0259                 True  \n",
       "2         0.0219         0.6810            0.0322                False  \n",
       "3         0.1382         0.8135            0.1699                False  \n",
       "4         0.0151         0.5213            0.0290                 True  "
      ]
     },
     "execution_count": 4,
     "metadata": {},
     "output_type": "execute_result"
    }
   ],
   "source": [
    "data_filtered = data.dropna()\n",
    "print(data_filtered.shape)\n",
    "data_filtered = data_filtered[(data_filtered[\"dN/dS with Chimpanzee\"] != float(\"inf\")) & (data_filtered[\"dN/dS with Mouse\"] != float(\"inf\"))]\n",
    "print(data_filtered.shape)\n",
    "data_filtered.head()"
   ]
  },
  {
   "cell_type": "markdown",
   "metadata": {},
   "source": [
    "This function takes 2 rows of a contigency table and prints Chi2 test p-value:"
   ]
  },
  {
   "cell_type": "code",
   "execution_count": 5,
   "metadata": {},
   "outputs": [],
   "source": [
    "def chi2_test(row1, row2):\n",
    "    cont_table = [row1, row2]\n",
    "    print(cont_table)\n",
    "    \n",
    "    stat, p, dof, expected = chi2_contingency(cont_table)\n",
    "    print('significance=0.05, p={}'.format(p))\n",
    "\n",
    "    if p <= 0.05: \n",
    "        print('Dependent (reject H0)')\n",
    "    else: \n",
    "        print('Independent (fail to reject H0)')\n",
    "        \n",
    "    return"
   ]
  },
  {
   "cell_type": "markdown",
   "metadata": {},
   "source": [
    "1. **Chi-square test for comparison of dN/dS with 1.**\n",
    "\n",
    "The contigency table looks like this:\n",
    "\n",
    "|             | dN/dS < 1 | dN/dS ≥ 1 |\n",
    "|:-----------:|:---------:|:---------:|\n",
    "| bad target  |           |           |\n",
    "| good target |           |           |"
   ]
  },
  {
   "cell_type": "code",
   "execution_count": 6,
   "metadata": {},
   "outputs": [
    {
     "name": "stdout",
     "output_type": "stream",
     "text": [
      "Results of Chi2 test for Chimpanzee:\n",
      "\n",
      "[[9357, 704], [1370, 49]]\n",
      "significance=0.05, p=5.999795685706191e-07\n",
      "Dependent (reject H0)\n",
      "\n",
      "Results of Chi2 test for Mouse:\n",
      "\n",
      "[[10058, 3], [1419, 0]]\n",
      "significance=0.05, p=0.8207081731028516\n",
      "Independent (fail to reject H0)\n",
      "\n"
     ]
    }
   ],
   "source": [
    "# for chimpanzee vs human\n",
    "bad_targets = [data_filtered[(data_filtered[\"dN/dS with Chimpanzee\"] < 1) & (data_filtered[\"present in DrugBank\"] == False)].shape[0], \n",
    "               data_filtered[(data_filtered[\"dN/dS with Chimpanzee\"] >= 1) & (data_filtered[\"present in DrugBank\"] == False)].shape[0]]\n",
    "good_targets = [data_filtered[(data_filtered[\"dN/dS with Chimpanzee\"] < 1) & (data_filtered[\"present in DrugBank\"] == True)].shape[0], \n",
    "               data_filtered[(data_filtered[\"dN/dS with Chimpanzee\"] >= 1) & (data_filtered[\"present in DrugBank\"] == True)].shape[0]]\n",
    "\n",
    "print('Results of Chi2 test for Chimpanzee:')\n",
    "print()\n",
    "chi2_test(bad_targets, good_targets)\n",
    "print()\n",
    "\n",
    "# for mouse vs human\n",
    "bad_targets = [data_filtered[(data_filtered[\"dN/dS with Mouse\"] < 1) & (data_filtered[\"present in DrugBank\"] == False)].shape[0], \n",
    "               data_filtered[(data_filtered[\"dN/dS with Mouse\"] >= 1) & (data_filtered[\"present in DrugBank\"] == False)].shape[0]]\n",
    "good_targets = [data_filtered[(data_filtered[\"dN/dS with Mouse\"] < 1) & (data_filtered[\"present in DrugBank\"] == True)].shape[0], \n",
    "               data_filtered[(data_filtered[\"dN/dS with Mouse\"] >= 1) & (data_filtered[\"present in DrugBank\"] == True)].shape[0]]\n",
    "\n",
    "print('Results of Chi2 test for Mouse:')\n",
    "print()\n",
    "chi2_test(bad_targets, good_targets)\n",
    "print()"
   ]
  },
  {
   "cell_type": "markdown",
   "metadata": {},
   "source": [
    "2. **Chi-square test for comparison of dN/dS with the average.** \n",
    "\n",
    "The contigency table looks like this:\n",
    "\n",
    "|             | dN/dS < mean | dN/dS ≥ mean |\n",
    "|:-----------:|:------------:|:------------:|\n",
    "| bad target  |              |              |\n",
    "| good target |              |              |"
   ]
  },
  {
   "cell_type": "code",
   "execution_count": 7,
   "metadata": {},
   "outputs": [
    {
     "name": "stdout",
     "output_type": "stream",
     "text": [
      "Results of Chi2 test for Chimpanzee:\n",
      "\n",
      "Average dN/dS is 0.4354058972125436\n",
      "[[6674, 3387], [1060, 359]]\n",
      "significance=0.05, p=3.813229073735863e-10\n",
      "Dependent (reject H0)\n",
      "\n",
      "Results of Chi2 test for Mouse:\n",
      "\n",
      "Average dN/dS is 0.1616633275261324\n",
      "[[6038, 4023], [1043, 376]]\n",
      "significance=0.05, p=1.755996317294364e-22\n",
      "Dependent (reject H0)\n"
     ]
    }
   ],
   "source": [
    "# for chimpanzee vs human\n",
    "mean_dNdS = np.mean(data_filtered[\"dN/dS with Chimpanzee\"])\n",
    "bad_targets = [data_filtered[(data_filtered[\"dN/dS with Chimpanzee\"] < mean_dNdS) & (data_filtered[\"present in DrugBank\"] == False)].shape[0], \n",
    "               data_filtered[(data_filtered[\"dN/dS with Chimpanzee\"] >= mean_dNdS) & (data_filtered[\"present in DrugBank\"] == False)].shape[0]]\n",
    "good_targets = [data_filtered[(data_filtered[\"dN/dS with Chimpanzee\"] < mean_dNdS) & (data_filtered[\"present in DrugBank\"] == True)].shape[0], \n",
    "               data_filtered[(data_filtered[\"dN/dS with Chimpanzee\"] >= mean_dNdS) & (data_filtered[\"present in DrugBank\"] == True)].shape[0]]\n",
    "\n",
    "print('Results of Chi2 test for Chimpanzee:')\n",
    "print()\n",
    "print('Average dN/dS is {}'.format(mean_dNdS))\n",
    "chi2_test(bad_targets, good_targets)\n",
    "print()\n",
    "\n",
    "# for mouse vs human\n",
    "mean_dNdS = np.mean(data_filtered[\"dN/dS with Mouse\"])\n",
    "bad_targets = [data_filtered[(data_filtered[\"dN/dS with Mouse\"] < mean_dNdS) & (data_filtered[\"present in DrugBank\"] == False)].shape[0], \n",
    "               data_filtered[(data_filtered[\"dN/dS with Mouse\"] >= mean_dNdS) & (data_filtered[\"present in DrugBank\"] == False)].shape[0]]\n",
    "good_targets = [data_filtered[(data_filtered[\"dN/dS with Mouse\"] < mean_dNdS) & (data_filtered[\"present in DrugBank\"] == True)].shape[0], \n",
    "               data_filtered[(data_filtered[\"dN/dS with Mouse\"] >= mean_dNdS) & (data_filtered[\"present in DrugBank\"] == True)].shape[0]]\n",
    "\n",
    "print('Results of Chi2 test for Mouse:')\n",
    "print()\n",
    "print('Average dN/dS is {}'.format(mean_dNdS))\n",
    "chi2_test(bad_targets, good_targets)\n"
   ]
  },
  {
   "cell_type": "code",
   "execution_count": null,
   "metadata": {},
   "outputs": [],
   "source": []
  }
 ],
 "metadata": {
  "kernelspec": {
   "display_name": "Python 3",
   "language": "python",
   "name": "python3"
  },
  "language_info": {
   "codemirror_mode": {
    "name": "ipython",
    "version": 3
   },
   "file_extension": ".py",
   "mimetype": "text/x-python",
   "name": "python",
   "nbconvert_exporter": "python",
   "pygments_lexer": "ipython3",
   "version": "3.7.5"
  }
 },
 "nbformat": 4,
 "nbformat_minor": 2
}
